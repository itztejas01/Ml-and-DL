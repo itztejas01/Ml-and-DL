{
 "cells": [
  {
   "cell_type": "code",
   "execution_count": 1,
   "id": "ac18ce6e",
   "metadata": {},
   "outputs": [],
   "source": [
    "import spacy \n",
    "nlp = spacy.load('en_core_web_sm')"
   ]
  },
  {
   "cell_type": "code",
   "execution_count": 2,
   "id": "c2fa26d1",
   "metadata": {},
   "outputs": [
    {
     "name": "stdout",
     "output_type": "stream",
     "text": [
      "{'hundred', 'hereupon', 'whose', 'into', 'he', 'sometime', 'across', 'nowhere', 'alone', 'whoever', 'several', 'ever', 'among', 'nobody', 'one', 'him', 'side', 'becomes', 'again', 'less', 'does', '‘ll', 'under', 'hers', \"'ll\", 'there', 'in', 'an', 'beforehand', 'nothing', 'am', 'yourselves', 'perhaps', 'who', 'twelve', 'due', 'seems', 'was', 'without', 'none', 'yourself', 'although', 'they', 'on', 'fifteen', 'and', 'within', 'please', 'at', 'is', 'should', 'nevertheless', 'each', 'thereupon', 'but', 'a', 'me', 'become', 'anywhere', 'hereby', 'have', 'because', 'four', 'of', 'wherever', 'thereby', 'enough', 'meanwhile', 'or', 'out', 'how', 'whereby', 'then', 'serious', 'namely', \"'d\", 'the', 'doing', 'their', 'itself', 'against', \"'ve\", 'just', 'around', 'whereafter', 'six', 'could', 'everything', 'anything', 'also', 'toward', 'where', 'once', 'rather', 'himself', 'through', 'cannot', 'either', '’m', 'thru', 'whither', 'has', 'whenever', 'very', 'n’t', 'hence', 'n‘t', 'onto', '’s', 'can', 'i', 'further', 'make', 'already', 'somehow', 'amount', 'before', 'fifty', 'those', 'becoming', 'many', 'nine', 'wherein', 'over', '’ve', \"'re\", 'nor', 'therefore', 'call', 'being', '’d', 'all', 'whole', 'much', \"'m\", 'ca', 'put', 'using', 'this', 'now', 'moreover', 'them', 'thus', 'from', 'anyhow', 'more', 'done', 'eleven', 'only', 'via', \"'s\", 'else', 'besides', 'whence', 'yours', 'our', 'above', 'show', 'were', '‘ve', 'someone', '‘d', '’re', 'to', 'always', 'full', 'unless', 'even', 'others', 'we', 'almost', 'us', 'never', 'may', 'empty', 'must', 'if', '’ll', 'throughout', 'about', 'off', 'three', 'sometimes', 'twenty', 'get', 'when', 'behind', 'not', 'same', 'third', '‘re', 'whereupon', 'next', 'well', 'forty', 'some', 'seem', 'therein', 'these', 'first', 'ten', 'keep', 'themselves', 'been', 'though', 'together', 'below', 'his', 'you', 'while', 'regarding', 'still', 'whereas', 'up', 're', 'really', 'two', 'beyond', 'afterwards', 'after', '‘s', 'least', 'latter', 'for', 'such', 'formerly', 'indeed', 'might', 'give', 'everyone', 'mostly', 'until', 'be', 'per', 'herself', 'thence', 'do', 'her', 'my', 'yet', 'name', 'front', 'ourselves', \"n't\", 'most', 'back', 'everywhere', 'often', 'latterly', 'used', 'take', 'no', 'are', 'down', 'too', 'than', 'she', 'your', 'say', 'whom', 'whether', 'see', 'ours', 'both', 'why', 'herein', 'upon', 'quite', '‘m', 'own', 'other', 'every', 'would', 'otherwise', 'became', 'during', 'between', 'any', 'it', 'thereafter', 'its', 'which', 'eight', 'had', 'mine', 'along', 'last', 'so', 'did', 'noone', 'somewhere', 'seeming', 'something', 'few', 'here', 'with', 'seemed', 'anyone', 'made', 'hereafter', 'part', 'anyway', 'top', 'amongst', 'sixty', 'go', 'another', 'five', 'as', 'bottom', 'however', 'that', 'elsewhere', 'will', 'what', 'beside', 'myself', 'neither', 'since', 'move', 'towards', 'whatever', 'by', 'except', 'various', 'former'}\n"
     ]
    }
   ],
   "source": [
    "print(nlp.Defaults.stop_words)"
   ]
  },
  {
   "cell_type": "code",
   "execution_count": 3,
   "id": "4b828d51",
   "metadata": {},
   "outputs": [
    {
     "data": {
      "text/plain": [
       "326"
      ]
     },
     "execution_count": 3,
     "metadata": {},
     "output_type": "execute_result"
    }
   ],
   "source": [
    "len(nlp.Defaults.stop_words)"
   ]
  },
  {
   "cell_type": "code",
   "execution_count": 8,
   "id": "bab3677f",
   "metadata": {},
   "outputs": [
    {
     "data": {
      "text/plain": [
       "False"
      ]
     },
     "execution_count": 8,
     "metadata": {},
     "output_type": "execute_result"
    }
   ],
   "source": [
    "nlp.vocab['mystery'].is_stop"
   ]
  },
  {
   "cell_type": "code",
   "execution_count": 9,
   "id": "a3800fdb",
   "metadata": {},
   "outputs": [],
   "source": [
    "nlp.Defaults.stop_words.add('btw')"
   ]
  },
  {
   "cell_type": "code",
   "execution_count": 10,
   "id": "6acceabb",
   "metadata": {},
   "outputs": [
    {
     "data": {
      "text/plain": [
       "True"
      ]
     },
     "execution_count": 10,
     "metadata": {},
     "output_type": "execute_result"
    }
   ],
   "source": [
    "nlp.vocab['btw'].is_stop"
   ]
  },
  {
   "cell_type": "code",
   "execution_count": 11,
   "id": "18ba10c0",
   "metadata": {},
   "outputs": [
    {
     "data": {
      "text/plain": [
       "327"
      ]
     },
     "execution_count": 11,
     "metadata": {},
     "output_type": "execute_result"
    }
   ],
   "source": [
    "len(nlp.Defaults.stop_words)"
   ]
  },
  {
   "cell_type": "code",
   "execution_count": 12,
   "id": "ea2d7292",
   "metadata": {},
   "outputs": [],
   "source": [
    "nlp.Defaults.stop_words.remove('beyond')"
   ]
  },
  {
   "cell_type": "code",
   "execution_count": 13,
   "id": "cec3c1a5",
   "metadata": {},
   "outputs": [
    {
     "data": {
      "text/plain": [
       "326"
      ]
     },
     "execution_count": 13,
     "metadata": {},
     "output_type": "execute_result"
    }
   ],
   "source": [
    "len(nlp.Defaults.stop_words)"
   ]
  },
  {
   "cell_type": "code",
   "execution_count": 14,
   "id": "27840dd6",
   "metadata": {},
   "outputs": [
    {
     "data": {
      "text/plain": [
       "False"
      ]
     },
     "execution_count": 14,
     "metadata": {},
     "output_type": "execute_result"
    }
   ],
   "source": [
    "nlp.vocab['beyond'].is_stop"
   ]
  },
  {
   "cell_type": "code",
   "execution_count": null,
   "id": "d804da85",
   "metadata": {},
   "outputs": [],
   "source": []
  }
 ],
 "metadata": {
  "kernelspec": {
   "display_name": "Python 3 (ipykernel)",
   "language": "python",
   "name": "python3"
  },
  "language_info": {
   "codemirror_mode": {
    "name": "ipython",
    "version": 3
   },
   "file_extension": ".py",
   "mimetype": "text/x-python",
   "name": "python",
   "nbconvert_exporter": "python",
   "pygments_lexer": "ipython3",
   "version": "3.10.0"
  }
 },
 "nbformat": 4,
 "nbformat_minor": 5
}
