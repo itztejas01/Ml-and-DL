{
 "cells": [
  {
   "cell_type": "code",
   "execution_count": 1,
   "id": "6019bce9",
   "metadata": {},
   "outputs": [],
   "source": [
    "import spacy\n",
    "nlp = spacy.load('en_core_web_lg')"
   ]
  },
  {
   "cell_type": "code",
   "execution_count": 2,
   "id": "6c518985",
   "metadata": {},
   "outputs": [
    {
     "data": {
      "text/plain": [
       "(300,)"
      ]
     },
     "execution_count": 2,
     "metadata": {},
     "output_type": "execute_result"
    }
   ],
   "source": [
    "nlp(u'The quick brown fox jumped').vector.shape"
   ]
  },
  {
   "cell_type": "code",
   "execution_count": 3,
   "id": "1b4f2b18",
   "metadata": {},
   "outputs": [
    {
     "data": {
      "text/plain": [
       "(300,)"
      ]
     },
     "execution_count": 3,
     "metadata": {},
     "output_type": "execute_result"
    }
   ],
   "source": [
    "nlp(u'fox ').vector.shape"
   ]
  },
  {
   "cell_type": "code",
   "execution_count": 4,
   "id": "775f0fda",
   "metadata": {},
   "outputs": [],
   "source": [
    "token  = nlp(u'like love hate')"
   ]
  },
  {
   "cell_type": "code",
   "execution_count": 5,
   "id": "d59a8983",
   "metadata": {
    "scrolled": true
   },
   "outputs": [
    {
     "name": "stdout",
     "output_type": "stream",
     "text": [
      "like like 1.0\n",
      "like love 0.657904\n",
      "like hate 0.6574652\n",
      "love like 0.657904\n",
      "love love 1.0\n",
      "love hate 0.6393099\n",
      "hate like 0.6574652\n",
      "hate love 0.6393099\n",
      "hate hate 1.0\n"
     ]
    }
   ],
   "source": [
    "for token1 in token:\n",
    "    for token2 in token:\n",
    "        print(token1.text,token2.text, token1.similarity(token2))"
   ]
  },
  {
   "cell_type": "code",
   "execution_count": 6,
   "id": "010fd491",
   "metadata": {},
   "outputs": [
    {
     "data": {
      "text/plain": [
       "(684830, 300)"
      ]
     },
     "execution_count": 6,
     "metadata": {},
     "output_type": "execute_result"
    }
   ],
   "source": [
    "nlp.vocab.vectors.shape"
   ]
  },
  {
   "cell_type": "code",
   "execution_count": 7,
   "id": "c1c1369d",
   "metadata": {},
   "outputs": [],
   "source": [
    "tokens = nlp(u\"dog cat Tejas\")"
   ]
  },
  {
   "cell_type": "code",
   "execution_count": 8,
   "id": "e263b914",
   "metadata": {},
   "outputs": [
    {
     "name": "stdout",
     "output_type": "stream",
     "text": [
      "dog True 7.0336733 False\n",
      "cat True 6.6808186 False\n",
      "Tejas True 6.999755 False\n"
     ]
    }
   ],
   "source": [
    "for token in tokens:\n",
    "    print(token.text,token.has_vector,token.vector_norm,token.is_oov)"
   ]
  },
  {
   "cell_type": "code",
   "execution_count": 9,
   "id": "12e83853",
   "metadata": {},
   "outputs": [],
   "source": [
    "from scipy import spatial\n",
    "\n",
    "cosine_similarity = lambda vec1,vec2: 1 - spatial.distance.cosine(vec1,vec2)"
   ]
  },
  {
   "cell_type": "code",
   "execution_count": 17,
   "id": "d422618a",
   "metadata": {},
   "outputs": [],
   "source": [
    "king = nlp.vocab['king'].vector\n",
    "man = nlp.vocab['man'].vector\n",
    "woman = nlp.vocab['woman'].vector"
   ]
  },
  {
   "cell_type": "markdown",
   "id": "ae93729c",
   "metadata": {},
   "source": [
    "### King - man + woman ----> NEW_VECTOR similar QUEEN, PRINCESS, HIGHNESS "
   ]
  },
  {
   "cell_type": "code",
   "execution_count": 18,
   "id": "27800c68",
   "metadata": {},
   "outputs": [],
   "source": [
    "new_vector = king-man+woman"
   ]
  },
  {
   "cell_type": "code",
   "execution_count": 19,
   "id": "9e7ee4cb",
   "metadata": {},
   "outputs": [],
   "source": [
    "compute_similarites = []\n",
    "\n",
    "#For all words in vocab \n",
    "for word in nlp.vocab:\n",
    "    if(word.has_vector):\n",
    "        if (word.is_lower):\n",
    "            if(word.is_alpha):\n",
    "                similarity = cosine_similarity(new_vector,word.vector)\n",
    "                compute_similarites.append((word,similarity))"
   ]
  },
  {
   "cell_type": "code",
   "execution_count": 20,
   "id": "5a89f889",
   "metadata": {},
   "outputs": [],
   "source": [
    "compute_similarites = sorted(compute_similarites,key = lambda item:-item[1])"
   ]
  },
  {
   "cell_type": "code",
   "execution_count": 21,
   "id": "2a9cb73a",
   "metadata": {},
   "outputs": [
    {
     "name": "stdout",
     "output_type": "stream",
     "text": [
      "['king', 'woman', 'she', 'who', 'fox', 'brown', 'when', 'dare', 'cat', 'love']\n"
     ]
    }
   ],
   "source": [
    "print([t[0].text for t in compute_similarites[:10]])"
   ]
  },
  {
   "cell_type": "code",
   "execution_count": null,
   "id": "dbead570",
   "metadata": {},
   "outputs": [],
   "source": []
  }
 ],
 "metadata": {
  "kernelspec": {
   "display_name": "Python 3 (ipykernel)",
   "language": "python",
   "name": "python3"
  },
  "language_info": {
   "codemirror_mode": {
    "name": "ipython",
    "version": 3
   },
   "file_extension": ".py",
   "mimetype": "text/x-python",
   "name": "python",
   "nbconvert_exporter": "python",
   "pygments_lexer": "ipython3",
   "version": "3.10.0"
  }
 },
 "nbformat": 4,
 "nbformat_minor": 5
}
