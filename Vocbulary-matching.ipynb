{
 "cells": [
  {
   "cell_type": "code",
   "execution_count": 1,
   "id": "62b40275",
   "metadata": {},
   "outputs": [],
   "source": [
    "import spacy\n",
    "nlp = spacy.load('en_core_web_sm')"
   ]
  },
  {
   "cell_type": "code",
   "execution_count": 2,
   "id": "09d75208",
   "metadata": {},
   "outputs": [],
   "source": [
    "from spacy.matcher import Matcher\n",
    "\n",
    "matcher = Matcher(nlp.vocab)"
   ]
  },
  {
   "cell_type": "code",
   "execution_count": 3,
   "id": "40946576",
   "metadata": {},
   "outputs": [],
   "source": [
    "# solarpower\n",
    "pattern1 = [{'LOWER':'solarpower'}]\n",
    "\n",
    "# solar-power\n",
    "pattern2 = [{'LOWER':'solar'},{'IS_PUNCT':True},{'LOWER':'power'}]\n",
    "\n",
    "# solar power\n",
    "patter3 = [{'LOWER':'solar'},{\"LOWER\":'power'}]\n",
    "\n",
    "patterns = [pattern1,pattern2,patter3]"
   ]
  },
  {
   "cell_type": "code",
   "execution_count": 4,
   "id": "934bf077",
   "metadata": {},
   "outputs": [],
   "source": [
    "matcher.add('SolarPower',patterns)"
   ]
  },
  {
   "cell_type": "code",
   "execution_count": 5,
   "id": "36955c8d",
   "metadata": {},
   "outputs": [],
   "source": [
    "doc = nlp(u\"The solar power industry continue to grow as solarpower increases. Solar-power is amazing\")"
   ]
  },
  {
   "cell_type": "code",
   "execution_count": 6,
   "id": "c6470d7f",
   "metadata": {},
   "outputs": [],
   "source": [
    "found_match = matcher(doc)"
   ]
  },
  {
   "cell_type": "code",
   "execution_count": 7,
   "id": "c5c60028",
   "metadata": {},
   "outputs": [
    {
     "name": "stdout",
     "output_type": "stream",
     "text": [
      "[(8656102463236116519, 1, 3), (8656102463236116519, 8, 9), (8656102463236116519, 11, 14)]\n"
     ]
    }
   ],
   "source": [
    "print(found_match)"
   ]
  },
  {
   "cell_type": "code",
   "execution_count": 8,
   "id": "875858fb",
   "metadata": {},
   "outputs": [
    {
     "name": "stdout",
     "output_type": "stream",
     "text": [
      "match id is 8656102463236116519 \t string id is SolarPower \t text is solar power\n",
      "match id is 8656102463236116519 \t string id is SolarPower \t text is solarpower\n",
      "match id is 8656102463236116519 \t string id is SolarPower \t text is Solar-power\n"
     ]
    }
   ],
   "source": [
    "for match_id, start, end in found_match:\n",
    "    string_id = nlp.vocab.strings[match_id]\n",
    "    span = doc[start:end]\n",
    "    print(f'match id is {match_id} \\t string id is {string_id} \\t text is {span.text}')"
   ]
  },
  {
   "cell_type": "code",
   "execution_count": 9,
   "id": "672c6b3f",
   "metadata": {},
   "outputs": [],
   "source": [
    "matcher.remove(\"SolarPower\")"
   ]
  },
  {
   "cell_type": "code",
   "execution_count": 47,
   "id": "2253bd02",
   "metadata": {},
   "outputs": [],
   "source": [
    "pattern1 = [{'LOWER':'solarpower'}]\n",
    "\n",
    "pattern2 = [{'LOWER':'solar'},{'IS_PUNCT':True,'OP':'*'},{'LOWER':'power'}]\n",
    "\n",
    "pattern = [pattern1,pattern2]"
   ]
  },
  {
   "cell_type": "code",
   "execution_count": 48,
   "id": "004c9d37",
   "metadata": {},
   "outputs": [],
   "source": [
    "matcher.add('SolarPower',pattern)"
   ]
  },
  {
   "cell_type": "code",
   "execution_count": 49,
   "id": "485d008b",
   "metadata": {},
   "outputs": [],
   "source": [
    "doc2 = nlp(u\"Solar--power is solarpower yay!\")"
   ]
  },
  {
   "cell_type": "code",
   "execution_count": 50,
   "id": "d32794bf",
   "metadata": {},
   "outputs": [],
   "source": [
    "found_match = matcher(doc2)"
   ]
  },
  {
   "cell_type": "code",
   "execution_count": 51,
   "id": "cc31a1c0",
   "metadata": {},
   "outputs": [
    {
     "name": "stdout",
     "output_type": "stream",
     "text": [
      "[(8656102463236116519, 0, 3), (8656102463236116519, 4, 5)]\n"
     ]
    }
   ],
   "source": [
    "print(found_match)"
   ]
  },
  {
   "cell_type": "code",
   "execution_count": 79,
   "id": "45df0b4d",
   "metadata": {},
   "outputs": [
    {
     "name": "stdout",
     "output_type": "stream",
     "text": [
      "match id is 8656102463236116519 \t string id is SolarPower \t text is Solar--power\n",
      "match id is 8656102463236116519 \t string id is SolarPower \t text is solarpower\n"
     ]
    }
   ],
   "source": [
    "for match_id, start, end in found_match:\n",
    "    string_id = nlp.vocab.strings[match_id]\n",
    "    span = doc2[start:end]\n",
    "    print(f'match id is {match_id} \\t string id is {string_id} \\t text is {span.text}')"
   ]
  },
  {
   "cell_type": "code",
   "execution_count": 53,
   "id": "b2252b5c",
   "metadata": {},
   "outputs": [],
   "source": [
    "from spacy.matcher import PhraseMatcher\n",
    "\n",
    "phrase_matcher = PhraseMatcher(nlp.vocab)"
   ]
  },
  {
   "cell_type": "code",
   "execution_count": 54,
   "id": "ce91f051",
   "metadata": {},
   "outputs": [],
   "source": [
    "with open('reaganomics.txt') as f:\n",
    "    doc3 = nlp(f.read())"
   ]
  },
  {
   "cell_type": "code",
   "execution_count": 55,
   "id": "d25c88c2",
   "metadata": {},
   "outputs": [],
   "source": [
    "phrase_list = ['voodoo economics','supply-side economics','trickle-down economics','free-market economics']"
   ]
  },
  {
   "cell_type": "code",
   "execution_count": 72,
   "id": "6e1d8a60",
   "metadata": {},
   "outputs": [
    {
     "data": {
      "text/plain": [
       "[voodoo economics,\n",
       " supply-side economics,\n",
       " trickle-down economics,\n",
       " free-market economics]"
      ]
     },
     "execution_count": 72,
     "metadata": {},
     "output_type": "execute_result"
    }
   ],
   "source": [
    "phrase_patterns = [nlp(text) for text in phrase_list]\n",
    "phrase_patterns"
   ]
  },
  {
   "cell_type": "code",
   "execution_count": 73,
   "id": "6c0beff7",
   "metadata": {},
   "outputs": [],
   "source": [
    "phrase_matcher.add('EconMatcher',phrase_patterns)"
   ]
  },
  {
   "cell_type": "code",
   "execution_count": 76,
   "id": "1b6ce98b",
   "metadata": {},
   "outputs": [],
   "source": [
    "found_matches = phrase_matcher(doc3)"
   ]
  },
  {
   "cell_type": "code",
   "execution_count": 77,
   "id": "3d6f43b6",
   "metadata": {},
   "outputs": [
    {
     "data": {
      "text/plain": [
       "[(3680293220734633682, 41, 45),\n",
       " (3680293220734633682, 49, 53),\n",
       " (3680293220734633682, 54, 56),\n",
       " (3680293220734633682, 61, 65),\n",
       " (3680293220734633682, 673, 677),\n",
       " (3680293220734633682, 2987, 2991)]"
      ]
     },
     "execution_count": 77,
     "metadata": {},
     "output_type": "execute_result"
    }
   ],
   "source": [
    "found_matches"
   ]
  },
  {
   "cell_type": "code",
   "execution_count": 84,
   "id": "b7cdfdc3",
   "metadata": {},
   "outputs": [
    {
     "name": "stdout",
     "output_type": "stream",
     "text": [
      "3680293220734633682\tEconMatcher\tpolicies are commonly associated with supply-side economics, referred to as trickle\n",
      "3680293220734633682\tEconMatcher\teconomics, referred to as trickle-down economics or voodoo economics by political\n",
      "3680293220734633682\tEconMatcher\ttrickle-down economics or voodoo economics by political opponents, and\n",
      "3680293220734633682\tEconMatcher\tby political opponents, and free-market economics by political advocates.\n",
      "\n",
      "\n",
      "3680293220734633682\tEconMatcher\tattracted a following from the supply-side economics movement, which formed in\n",
      "3680293220734633682\tEconMatcher\tbecame widely known as \"trickle-down economics\", due to the\n"
     ]
    }
   ],
   "source": [
    "for match_id, start, end in found_matches:\n",
    "    string_id = nlp.vocab.strings[match_id]\n",
    "    span = doc3[start-5:end+5]\n",
    "    print(f'{match_id}\\t{string_id}\\t{span.text}')"
   ]
  },
  {
   "cell_type": "code",
   "execution_count": null,
   "id": "e96a6a70",
   "metadata": {},
   "outputs": [],
   "source": []
  }
 ],
 "metadata": {
  "kernelspec": {
   "display_name": "Python 3 (ipykernel)",
   "language": "python",
   "name": "python3"
  },
  "language_info": {
   "codemirror_mode": {
    "name": "ipython",
    "version": 3
   },
   "file_extension": ".py",
   "mimetype": "text/x-python",
   "name": "python",
   "nbconvert_exporter": "python",
   "pygments_lexer": "ipython3",
   "version": "3.10.0"
  }
 },
 "nbformat": 4,
 "nbformat_minor": 5
}
