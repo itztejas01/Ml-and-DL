{
 "cells": [
  {
   "cell_type": "code",
   "execution_count": 1,
   "id": "f9a4d4c1",
   "metadata": {},
   "outputs": [],
   "source": [
    "import spacy \n",
    "\n",
    "nlp = spacy.load('en_core_web_lg')"
   ]
  },
  {
   "cell_type": "code",
   "execution_count": 3,
   "id": "87397ddc",
   "metadata": {},
   "outputs": [],
   "source": [
    "from scipy import spatial\n",
    "\n",
    "cosinie_similarity = lambda vec1,vec2: 1-spatial.distance.cosine(vec1,vec2)"
   ]
  },
  {
   "cell_type": "code",
   "execution_count": 41,
   "id": "dd03cbcd",
   "metadata": {},
   "outputs": [],
   "source": [
    "def vector_math(a,b,c):\n",
    "    a = nlp.vocab[a].vector\n",
    "    b = nlp.vocab[b].vector\n",
    "    c = nlp.vocab[c].vector\n",
    "    \n",
    "    new_vector = a-b+c\n",
    "    compute_similar = []\n",
    "    \n",
    "    for words in nlp.vocab:\n",
    "        if(words.has_vector):\n",
    "            if words.is_lower:\n",
    "                if words.is_alpha:\n",
    "                    similarity = cosinie_similarity(new_vector,words.vector)\n",
    "                    compute_similar.append((words,similarity))\n",
    "    compute_similar = sorted(compute_similar,key = lambda item:-item[1])\n",
    "    print([t[0].text for t in compute_similar[:10]])"
   ]
  },
  {
   "cell_type": "code",
   "execution_count": 42,
   "id": "fa1f2601",
   "metadata": {},
   "outputs": [
    {
     "name": "stdout",
     "output_type": "stream",
     "text": [
      "['wolf', 'cat', 'king', 'i', 'cuz', 'dare', 'u', 'man', 'dog', 'she']\n"
     ]
    }
   ],
   "source": [
    "vector_math('wolf','dog','cat')"
   ]
  },
  {
   "cell_type": "code",
   "execution_count": 8,
   "id": "dfcfe588",
   "metadata": {},
   "outputs": [],
   "source": [
    "from nltk.sentiment.vader import SentimentIntensityAnalyzer\n",
    "\n",
    "sid = SentimentIntensityAnalyzer()"
   ]
  },
  {
   "cell_type": "code",
   "execution_count": 43,
   "id": "b6c2a8ab",
   "metadata": {},
   "outputs": [],
   "source": [
    "def review_rating(review):\n",
    "    re = sid.polarity_scores(review)\n",
    "    if re['compound'] == 0:\n",
    "        return \"Neutral\"\n",
    "    elif re['compound'] >=0:\n",
    "        return \"Positive\"\n",
    "    elif re['compound'] <0:\n",
    "        return \"Negative\"\n",
    "    \n",
    "    "
   ]
  },
  {
   "cell_type": "code",
   "execution_count": 44,
   "id": "e8857d4c",
   "metadata": {},
   "outputs": [
    {
     "data": {
      "text/plain": [
       "'Positive'"
      ]
     },
     "execution_count": 44,
     "metadata": {},
     "output_type": "execute_result"
    }
   ],
   "source": [
    "review_rating('it is good moview')"
   ]
  },
  {
   "cell_type": "code",
   "execution_count": null,
   "id": "9400196d",
   "metadata": {},
   "outputs": [],
   "source": []
  }
 ],
 "metadata": {
  "kernelspec": {
   "display_name": "Python 3 (ipykernel)",
   "language": "python",
   "name": "python3"
  },
  "language_info": {
   "codemirror_mode": {
    "name": "ipython",
    "version": 3
   },
   "file_extension": ".py",
   "mimetype": "text/x-python",
   "name": "python",
   "nbconvert_exporter": "python",
   "pygments_lexer": "ipython3",
   "version": "3.10.0"
  }
 },
 "nbformat": 4,
 "nbformat_minor": 5
}
